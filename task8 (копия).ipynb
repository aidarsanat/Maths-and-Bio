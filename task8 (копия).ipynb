{
 "cells": [
  {
   "cell_type": "code",
   "execution_count": 4,
   "id": "0e0dc19a",
   "metadata": {},
   "outputs": [
    {
     "ename": "TypeError",
     "evalue": "'numpy.float64' object is not callable",
     "output_type": "error",
     "traceback": [
      "\u001b[0;31m---------------------------------------------------------------------------\u001b[0m",
      "\u001b[0;31mTypeError\u001b[0m                                 Traceback (most recent call last)",
      "Input \u001b[0;32mIn [4]\u001b[0m, in \u001b[0;36m<cell line: 42>\u001b[0;34m()\u001b[0m\n\u001b[1;32m     41\u001b[0m solutions \u001b[38;5;241m=\u001b[39m []\n\u001b[1;32m     42\u001b[0m \u001b[38;5;28;01mfor\u001b[39;00m v0, w0 \u001b[38;5;129;01min\u001b[39;00m initial_conditions:\n\u001b[0;32m---> 43\u001b[0m     sol \u001b[38;5;241m=\u001b[39m \u001b[43mrunge_kutta_4th_order\u001b[49m\u001b[43m(\u001b[49m\u001b[43mfitzhugh_nagumo\u001b[49m\u001b[43m,\u001b[49m\u001b[43m \u001b[49m\u001b[43m[\u001b[49m\u001b[43mv0\u001b[49m\u001b[43m,\u001b[49m\u001b[43m \u001b[49m\u001b[43mw0\u001b[49m\u001b[43m]\u001b[49m\u001b[43m,\u001b[49m\u001b[43m \u001b[49m\u001b[43mt_eval\u001b[49m\u001b[43m)\u001b[49m\n\u001b[1;32m     44\u001b[0m     solutions\u001b[38;5;241m.\u001b[39mappend(sol)\n\u001b[1;32m     46\u001b[0m plt\u001b[38;5;241m.\u001b[39mfigure(figsize\u001b[38;5;241m=\u001b[39m(\u001b[38;5;241m12\u001b[39m, \u001b[38;5;241m8\u001b[39m))\n",
      "Input \u001b[0;32mIn [4]\u001b[0m, in \u001b[0;36mrunge_kutta_4th_order\u001b[0;34m(f, y0, t_values)\u001b[0m\n\u001b[1;32m     28\u001b[0m y_i \u001b[38;5;241m=\u001b[39m y[i \u001b[38;5;241m-\u001b[39m \u001b[38;5;241m1\u001b[39m]\n\u001b[1;32m     30\u001b[0m \u001b[38;5;66;03m# Вычисляем промежуточные значения k\u001b[39;00m\n\u001b[0;32m---> 31\u001b[0m k1 \u001b[38;5;241m=\u001b[39m h \u001b[38;5;241m*\u001b[39m \u001b[43mf\u001b[49m\u001b[43m(\u001b[49m\u001b[43mt\u001b[49m\u001b[43m,\u001b[49m\u001b[43m \u001b[49m\u001b[43my_i\u001b[49m\u001b[43m)\u001b[49m\n\u001b[1;32m     32\u001b[0m k2 \u001b[38;5;241m=\u001b[39m h \u001b[38;5;241m*\u001b[39m f(t \u001b[38;5;241m+\u001b[39m h \u001b[38;5;241m/\u001b[39m \u001b[38;5;241m2\u001b[39m, y_i \u001b[38;5;241m+\u001b[39m k1 \u001b[38;5;241m/\u001b[39m \u001b[38;5;241m2\u001b[39m)\n\u001b[1;32m     33\u001b[0m k3 \u001b[38;5;241m=\u001b[39m h \u001b[38;5;241m*\u001b[39m f(t \u001b[38;5;241m+\u001b[39m h \u001b[38;5;241m/\u001b[39m \u001b[38;5;241m2\u001b[39m, y_i \u001b[38;5;241m+\u001b[39m k2 \u001b[38;5;241m/\u001b[39m \u001b[38;5;241m2\u001b[39m)\n",
      "Input \u001b[0;32mIn [4]\u001b[0m, in \u001b[0;36mfitzhugh_nagumo\u001b[0;34m(t, y)\u001b[0m\n\u001b[1;32m     10\u001b[0m \u001b[38;5;28;01mdef\u001b[39;00m \u001b[38;5;21mfitzhugh_nagumo\u001b[39m(t, y):\n\u001b[1;32m     11\u001b[0m     v, w \u001b[38;5;241m=\u001b[39m y\n\u001b[0;32m---> 12\u001b[0m     dv_dt \u001b[38;5;241m=\u001b[39m (\u001b[38;5;241m-\u001b[39m\u001b[38;5;241m1\u001b[39m) \u001b[38;5;241m*\u001b[39m v \u001b[38;5;241m*\u001b[39m \u001b[43m(\u001b[49m\u001b[43mv\u001b[49m\u001b[43m \u001b[49m\u001b[38;5;241;43m-\u001b[39;49m\u001b[43m \u001b[49m\u001b[43ma\u001b[49m\u001b[43m)\u001b[49m\u001b[43m(\u001b[49m\u001b[43mv\u001b[49m\u001b[43m \u001b[49m\u001b[38;5;241;43m-\u001b[39;49m\u001b[43m \u001b[49m\u001b[38;5;241;43m1\u001b[39;49m\u001b[43m)\u001b[49m \u001b[38;5;241m-\u001b[39m w \u001b[38;5;241m+\u001b[39m I\n\u001b[1;32m     13\u001b[0m     dw_dt \u001b[38;5;241m=\u001b[39m E \u001b[38;5;241m*\u001b[39m (v \u001b[38;5;241m-\u001b[39m y \u001b[38;5;241m*\u001b[39m w)\n\u001b[1;32m     14\u001b[0m     \u001b[38;5;28;01mreturn\u001b[39;00m [dv_dt, dw_dt]\n",
      "\u001b[0;31mTypeError\u001b[0m: 'numpy.float64' object is not callable"
     ]
    }
   ],
   "source": [
    "import numpy as np\n",
    "import matplotlib.pyplot as plt\n",
    "from scipy.integrate import solve_ivp\n",
    "\n",
    "a = 0.3\n",
    "E = 0.01\n",
    "y = 2.5\n",
    "I = 0\n",
    "\n",
    "def fitzhugh_nagumo(t, y):\n",
    "    v, w = y\n",
    "    dv_dt = (-1) * v * (v - a)(v - 1) - w + I\n",
    "    dw_dt = E * (v - y * w)\n",
    "    return [dv_dt, dw_dt]\n",
    "\n",
    "initial_conditions = [(0.4, 0), (0.5, 0), (0.6, 0)]\n",
    "t_span = (0, 100)  \n",
    "t_eval = np.linspace(*t_span, 1000)  \n",
    "\n",
    "# # Метод Рунге-Кутта 4-го порядка\n",
    "# def runge_kutta_4th_order(f, y0, t_values):\n",
    "#     y = np.zeros((len(t_values), len(y0)))  # массив для значений x, y_pred, z\n",
    "#     y[0] = y0  # начальные условия\n",
    "    \n",
    "#     for i in range(1, len(t_values)):\n",
    "#         t = t_values[i - 1]\n",
    "#         h = t_values[i] - t_values[i - 1]\n",
    "#         y_i = y[i - 1]\n",
    "        \n",
    "#         # Вычисляем промежуточные значения k\n",
    "#         k1 = h * f(t, y_i)\n",
    "#         k2 = h * f(t + h / 2, y_i + k1 / 2)\n",
    "#         k3 = h * f(t + h / 2, y_i + k2 / 2)\n",
    "#         k4 = h * f(t + h, y_i + k3)\n",
    "        \n",
    "#         # Обновляем значения для следующего шага\n",
    "#         y[i] = y_i + (k1 + 2 * k2 + 2 * k3 + k4) / 6\n",
    "    \n",
    "#     return y\n",
    "\n",
    "solutions = []\n",
    "for v0, w0 in initial_conditions:\n",
    "    sol = runge_kutta_4th_order(fitzhugh_nagumo, [v0, w0], t_eval)\n",
    "    solutions.append(sol)\n",
    "\n",
    "plt.figure(figsize=(12, 8))\n",
    "\n",
    "# Графики v(t) и w(t) по времени\n",
    "for i, sol in enumerate(solutions):\n",
    "    plt.subplot(3, 2, 2*i + 1)\n",
    "    plt.plot(sol.t, sol.y[0], label=\"v(t)\")\n",
    "    plt.plot(sol.t, sol.y[1], label=\"w(t)\")\n",
    "    plt.xlabel(\"Time\")\n",
    "    plt.ylabel(\"Variables\")\n",
    "    plt.title(f\"Solution for initial condition (v0, w0) = {initial_conditions[i]}\")\n",
    "    plt.legend()\n",
    "\n",
    "# Графики v vs dv/dt\n",
    "for i, sol in enumerate(solutions):\n",
    "    dv_dt = sol.y[0] - (sol.y[0]**3) / 3 - sol.y[1] + I\n",
    "    plt.subplot(3, 2, 2*i + 2)\n",
    "    plt.plot(sol.y[0], dv_dt)\n",
    "    plt.xlabel(\"v\")\n",
    "    plt.ylabel(\"dv/dt\")\n",
    "    plt.title(f\"Phase plot for initial condition (v0, w0) = {initial_conditions[i]}\")\n",
    "\n",
    "plt.tight_layout()\n",
    "plt.show()"
   ]
  },
  {
   "cell_type": "code",
   "execution_count": null,
   "id": "6816b263",
   "metadata": {},
   "outputs": [],
   "source": []
  }
 ],
 "metadata": {
  "kernelspec": {
   "display_name": "Python 3 (ipykernel)",
   "language": "python",
   "name": "python3"
  },
  "language_info": {
   "codemirror_mode": {
    "name": "ipython",
    "version": 3
   },
   "file_extension": ".py",
   "mimetype": "text/x-python",
   "name": "python",
   "nbconvert_exporter": "python",
   "pygments_lexer": "ipython3",
   "version": "3.10.12"
  }
 },
 "nbformat": 4,
 "nbformat_minor": 5
}
