{
 "cells": [
  {
   "cell_type": "code",
   "execution_count": 1,
   "id": "0e0dc19a",
   "metadata": {},
   "outputs": [
    {
     "name": "stderr",
     "output_type": "stream",
     "text": [
      "/home/itachi/.local/lib/python3.10/site-packages/matplotlib/projections/__init__.py:63: UserWarning: Unable to import Axes3D. This may be due to multiple versions of Matplotlib being installed (e.g. as a system package and as a pip package). As a result, the 3D projection is not available.\n",
      "  warnings.warn(\"Unable to import Axes3D. This may be due to multiple versions of \"\n",
      "/usr/lib/python3/dist-packages/scipy/__init__.py:146: UserWarning: A NumPy version >=1.17.3 and <1.25.0 is required for this version of SciPy (detected version 1.26.4\n",
      "  warnings.warn(f\"A NumPy version >={np_minversion} and <{np_maxversion}\"\n"
     ]
    },
    {
     "ename": "TypeError",
     "evalue": "solve_ivp() got multiple values for argument 'method'",
     "output_type": "error",
     "traceback": [
      "\u001b[0;31m---------------------------------------------------------------------------\u001b[0m",
      "\u001b[0;31mTypeError\u001b[0m                                 Traceback (most recent call last)",
      "Input \u001b[0;32mIn [1]\u001b[0m, in \u001b[0;36m<cell line: 21>\u001b[0;34m()\u001b[0m\n\u001b[1;32m     20\u001b[0m solutions \u001b[38;5;241m=\u001b[39m []\n\u001b[1;32m     21\u001b[0m \u001b[38;5;28;01mfor\u001b[39;00m v0, w0 \u001b[38;5;129;01min\u001b[39;00m initial_conditions:\n\u001b[0;32m---> 22\u001b[0m     sol \u001b[38;5;241m=\u001b[39m \u001b[43msolve_ivp\u001b[49m\u001b[43m(\u001b[49m\u001b[43mfitzhugh_nagumo\u001b[49m\u001b[43m,\u001b[49m\u001b[43m \u001b[49m\u001b[43mt_span\u001b[49m\u001b[43m,\u001b[49m\u001b[43m \u001b[49m\u001b[43m[\u001b[49m\u001b[43mv0\u001b[49m\u001b[43m,\u001b[49m\u001b[43m \u001b[49m\u001b[43mw0\u001b[49m\u001b[43m]\u001b[49m\u001b[43m,\u001b[49m\u001b[43m \u001b[49m\u001b[43mt_eval\u001b[49m\u001b[43m,\u001b[49m\u001b[43m \u001b[49m\u001b[43mmethod\u001b[49m\u001b[38;5;241;43m=\u001b[39;49m\u001b[38;5;124;43m'\u001b[39;49m\u001b[38;5;124;43mRK45\u001b[39;49m\u001b[38;5;124;43m'\u001b[39;49m\u001b[43m)\u001b[49m\n\u001b[1;32m     23\u001b[0m     solutions\u001b[38;5;241m.\u001b[39mappend(sol)\n",
      "\u001b[0;31mTypeError\u001b[0m: solve_ivp() got multiple values for argument 'method'"
     ]
    }
   ],
   "source": [
    "import numpy as np\n",
    "import matplotlib.pyplot as plt\n",
    "from scipy.integrate import solve_ivp\n",
    "\n",
    "a = 0.3\n",
    "E = 0.01\n",
    "y = 2.5\n",
    "I = 0\n",
    "\n",
    "def fitzhugh_nagumo(t, y):\n",
    "    v, w = y\n",
    "    dv_dt = (-1) * v * (v - a)(v - 1) - w + I\n",
    "    dw_dt = E * (v - y * w)\n",
    "    return [dv_dt, dw_dt]\n",
    "\n",
    "initial_conditions = [(0.4, 0), (0.5, 0), (0.6, 0)]\n",
    "t_span = (0, 100)  \n",
    "t_eval = np.linspace(*t_span, 1000)  \n",
    "\n",
    "solutions = []\n",
    "for v0, w0 in initial_conditions:\n",
    "    sol = solve_ivp(fitzhugh_nagumo, t_span, [v0, w0], t_eval, method='RK45')\n",
    "    solutions.append(sol)\n",
    "\n",
    "# plt.figure(figsize=(12, 8))\n",
    "\n",
    "# # Графики v(t) и w(t) по времени\n",
    "# for i, sol in enumerate(solutions):\n",
    "#     plt.subplot(3, 2, 2*i + 1)\n",
    "#     plt.plot(sol.t, sol.y[0], label=\"v(t)\")\n",
    "#     plt.plot(sol.t, sol.y[1], label=\"w(t)\")\n",
    "#     plt.xlabel(\"Time\")\n",
    "#     plt.ylabel(\"Variables\")\n",
    "#     plt.title(f\"Solution for initial condition (v0, w0) = {initial_conditions[i]}\")\n",
    "#     plt.legend()\n",
    "\n",
    "# # Графики v vs dv/dt\n",
    "# for i, sol in enumerate(solutions):\n",
    "#     dv_dt = sol.y[0] - (sol.y[0]**3) / 3 - sol.y[1] + I\n",
    "#     plt.subplot(3, 2, 2*i + 2)\n",
    "#     plt.plot(sol.y[0], dv_dt)\n",
    "#     plt.xlabel(\"v\")\n",
    "#     plt.ylabel(\"dv/dt\")\n",
    "#     plt.title(f\"Phase plot for initial condition (v0, w0) = {initial_conditions[i]}\")\n",
    "\n",
    "# plt.tight_layout()\n",
    "# plt.show()"
   ]
  },
  {
   "cell_type": "code",
   "execution_count": null,
   "id": "6816b263",
   "metadata": {},
   "outputs": [],
   "source": []
  }
 ],
 "metadata": {
  "kernelspec": {
   "display_name": "Python 3 (ipykernel)",
   "language": "python",
   "name": "python3"
  },
  "language_info": {
   "codemirror_mode": {
    "name": "ipython",
    "version": 3
   },
   "file_extension": ".py",
   "mimetype": "text/x-python",
   "name": "python",
   "nbconvert_exporter": "python",
   "pygments_lexer": "ipython3",
   "version": "3.10.12"
  }
 },
 "nbformat": 4,
 "nbformat_minor": 5
}
